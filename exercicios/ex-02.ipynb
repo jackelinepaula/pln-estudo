{
 "cells": [
  {
   "cell_type": "code",
   "execution_count": 2,
   "metadata": {},
   "outputs": [],
   "source": [
    "comentarios = [\n",
    "    {\"autor\": \"João\", \"comentario\": \"Estou tão feliz hoje!\", \"sentimento\": \"positivo\"},\n",
    "    {\"autor\": \"Maria\", \"comentario\": \"Este filme é tão triste.\", \"sentimento\": \"negativo\"},\n",
    "    {\"autor\": \"Carlos\", \"comentario\": \"Que dia chuvoso entediante...\", \"sentimento\": \"positivo\"},\n",
    "    {\"autor\": \"Ana\", \"comentario\": \"Adorei a nova música da banda!\", \"sentimento\": \"negativo\"},\n",
    "    {\"autor\": \"Roberto\", \"comentario\": \"Eureka, consegui resolver este problema\", \"sentimento\": \"positivo\"},\n",
    "]"
   ]
  },
  {
   "cell_type": "code",
   "execution_count": 3,
   "metadata": {},
   "outputs": [
    {
     "name": "stdout",
     "output_type": "stream",
     "text": [
      "Quantidade de comentários positivos: 3\n",
      "Quantidade de comentários negativos: 2\n"
     ]
    }
   ],
   "source": [
    "def encontrar_quantidade_dicionario(key, value, dictionary):\n",
    "    quantity = 0\n",
    "\n",
    "    for dic in dictionary:\n",
    "        if value in dic[key]: \n",
    "            quantity += 1\n",
    "\n",
    "    return quantity\n",
    "\n",
    "quantPositivo = encontrar_quantidade_dicionario(\"sentimento\", \"positivo\", comentarios)\n",
    "quantNegativo = encontrar_quantidade_dicionario(\"sentimento\", \"negativo\", comentarios)\n",
    "\n",
    "print(\"Quantidade de comentários positivos:\", quantPositivo)\n",
    "print(\"Quantidade de comentários negativos:\", quantNegativo)"
   ]
  },
  {
   "cell_type": "code",
   "execution_count": 4,
   "metadata": {},
   "outputs": [
    {
     "name": "stdout",
     "output_type": "stream",
     "text": [
      "Quantidade em relação ao total (Positivos): 3 (60.00%)\n",
      "Quantidade em relação ao total (Negativos): 2 (40.00%)\n"
     ]
    }
   ],
   "source": [
    "totalComentarios = len(comentarios)\n",
    "\n",
    "def calcular_porcentagem_de_total(total, to_porcentagem):\n",
    "    return (to_porcentagem / total) * 100\n",
    "\n",
    "propPositivo = calcular_porcentagem_de_total(totalComentarios, quantPositivo)\n",
    "propNegativo = calcular_porcentagem_de_total(totalComentarios, quantNegativo)\n",
    "\n",
    "print(f\"Quantidade em relação ao total (Positivos): {quantPositivo} ({propPositivo:.2f}%)\")\n",
    "print(f\"Quantidade em relação ao total (Negativos): {quantNegativo} ({propNegativo:.2f}%)\")"
   ]
  },
  {
   "cell_type": "code",
   "execution_count": 5,
   "metadata": {},
   "outputs": [
    {
     "name": "stdout",
     "output_type": "stream",
     "text": [
      "Estou tão feliz hoje!\n",
      "Que dia chuvoso entediante...\n",
      "Eureka, consegui resolver este problema\n"
     ]
    }
   ],
   "source": [
    "for comentario in comentarios:\n",
    "    if comentario[\"sentimento\"] == \"positivo\":\n",
    "        print(comentario[\"comentario\"])\n"
   ]
  },
  {
   "cell_type": "code",
   "execution_count": 6,
   "metadata": {},
   "outputs": [
    {
     "name": "stdout",
     "output_type": "stream",
     "text": [
      "{'autor': 'João', 'comentario': 'Estou tão feliz hoje!', 'sentimento': 'positivo', 'sentimento_valor': 1}\n",
      "{'autor': 'Maria', 'comentario': 'Este filme é tão triste.', 'sentimento': 'negativo', 'sentimento_valor': 0}\n",
      "{'autor': 'Carlos', 'comentario': 'Que dia chuvoso entediante...', 'sentimento': 'positivo', 'sentimento_valor': 1}\n",
      "{'autor': 'Ana', 'comentario': 'Adorei a nova música da banda!', 'sentimento': 'negativo', 'sentimento_valor': 0}\n",
      "{'autor': 'Roberto', 'comentario': 'Eureka, consegui resolver este problema', 'sentimento': 'positivo', 'sentimento_valor': 1}\n"
     ]
    }
   ],
   "source": [
    "for comentario in comentarios:\n",
    "    if comentario[\"sentimento\"] == \"positivo\":\n",
    "        comentario[\"sentimento_valor\"] = 1\n",
    "    else:\n",
    "        comentario[\"sentimento_valor\"] = 0\n",
    "\n",
    "for comentario in comentarios:\n",
    "    print(comentario)"
   ]
  }
 ],
 "metadata": {
  "kernelspec": {
   "display_name": "jaajp-Za62OQIM",
   "language": "python",
   "name": "python3"
  },
  "language_info": {
   "codemirror_mode": {
    "name": "ipython",
    "version": 3
   },
   "file_extension": ".py",
   "mimetype": "text/x-python",
   "name": "python",
   "nbconvert_exporter": "python",
   "pygments_lexer": "ipython3",
   "version": "3.12.3"
  }
 },
 "nbformat": 4,
 "nbformat_minor": 2
}
