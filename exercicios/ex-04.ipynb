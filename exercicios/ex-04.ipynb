{
 "cells": [
  {
   "cell_type": "code",
   "execution_count": 37,
   "metadata": {},
   "outputs": [
    {
     "name": "stderr",
     "output_type": "stream",
     "text": [
      "[nltk_data] Downloading package punkt_tab to /home/jaajp/nltk_data...\n",
      "[nltk_data]   Package punkt_tab is already up-to-date!\n",
      "[nltk_data] Downloading package stopwords to /home/jaajp/nltk_data...\n",
      "[nltk_data]   Package stopwords is already up-to-date!\n"
     ]
    },
    {
     "data": {
      "text/plain": [
       "True"
      ]
     },
     "execution_count": 37,
     "metadata": {},
     "output_type": "execute_result"
    }
   ],
   "source": [
    "import nltk\n",
    "import string \n",
    "import re\n",
    "nltk.download('punkt_tab')\n",
    "nltk.download('stopwords')"
   ]
  },
  {
   "cell_type": "code",
   "execution_count": 38,
   "metadata": {},
   "outputs": [],
   "source": [
    "def processando_texto(texto):\n",
    "    texto = texto.lower()\n",
    "    #Removendo pontuação do texto\n",
    "    texto = re.sub(r'[^\\w\\s]', '', texto)\n",
    "\n",
    "    return texto"
   ]
  },
  {
   "cell_type": "code",
   "execution_count": 39,
   "metadata": {},
   "outputs": [],
   "source": [
    "def tokenizacao(texto):\n",
    "    #Realizando a tokenização do texto\n",
    "    tokens = nltk.tokenize.word_tokenize(texto)\n",
    "\n",
    "    return tokens"
   ]
  },
  {
   "cell_type": "code",
   "execution_count": 40,
   "metadata": {},
   "outputs": [],
   "source": [
    "def remover_stopwords(tokens):\n",
    "    #Removendo as stopword do texto, isso em português, como \"a\", \"de\", \"o\", etc.\n",
    "    stop_words = set(nltk.corpus.stopwords.words('portuguese'))\n",
    "    tokens_filtrados = list(filter(lambda word: word not in stop_words, tokens))\n",
    "\n",
    "    return tokens_filtrados\n"
   ]
  },
  {
   "cell_type": "code",
   "execution_count": 41,
   "metadata": {},
   "outputs": [],
   "source": [
    "def riqueza_lexical(tokens, vocabulario):\n",
    "    riq_lex = len(vocabulario) / len(tokens) \n",
    "    return riq_lex"
   ]
  },
  {
   "cell_type": "code",
   "execution_count": 42,
   "metadata": {},
   "outputs": [],
   "source": [
    "def construindo_vocabulario(tokens):\n",
    "    vocabulario = set(tokens)\n",
    "    return vocabulario"
   ]
  },
  {
   "cell_type": "code",
   "execution_count": 43,
   "metadata": {},
   "outputs": [],
   "source": [
    "texto_tech = \"\"\"\n",
    "A Unidade de Controle de Voo, ou Flight Controller (FC), é o coração do sistema. Este microcontrolador processa os dados de vários sensores e envia comandos para os motores. Entre suas principais funções estão manter a estabilidade do voo, interpretar comandos do piloto e gerenciar modos de voo, como decolagem automática ou voo autônomo. A FC depende de software avançado que utiliza algoritmos como os de controle PID para ajustar continuamente a posição do drone em resposta a distúrbios externos, como vento.\n",
    "Mas afinal, quais são os sensores por trás dos drones? \n",
    "Os sensores instalados no drone são responsáveis por coletar informações cruciais para o voo. Entre os mais comuns estão acelerômetros e giroscópios, que medem aceleração e rotação, garantindo a estabilidade. Barômetros, que determinam a altitude com base na pressão atmosférica, sistemas de GPS, que fornecem a localização exata para navegação, e sensores de proximidade, que detectam obstáculos para evitar colisões. Esses sensores trabalham em conjunto para fornecer à Unidade de Controle de Voo uma análise detalhada do ambiente e das condições de operação.\n",
    "Como os motores e as baterias trabalham juntos para manter o drone no ar?\n",
    "Os motores de um drone são responsáveis por gerar o empuxo necessário para o voo. Eles funcionam em sincronia com os Controladores Eletrônicos de Velocidade (ESCs), que ajusta a corrente elétrica enviada a cada motor com base nos comandos da FC. Essa coordenação precisa permite manobras como subir, descer, virar ou pairar no ar, mantendo o equilíbrio mesmo em condições adversas.\n",
    "A energia necessária para o funcionamento de todos esses componentes vem das baterias de lítio-polímero (LiPo). Essas baterias são bastante utilizadas devido à sua alta densidade energética e capacidade de descarga rápida. A eletrônica embarcada inclui circuitos de proteção que evitam superaquecimento ou descarga excessiva, aumentando a vida útil da bateria.\n",
    "Outro elemento essencial é o sistema de comunicação, que conecta o controle remoto ou aplicativo ao drone. Isso é feito por meio de sinais de rádio ou redes Wi-Fi, permitindo que o piloto envie comandos e receba dados em tempo real. Protocolos comuns incluem radiofrequência de 2.4 GHz, usada para comandos diretos, e Wi-Fi ou redes móveis como 4G e 5G, que são utilizadas para transmissão de vídeo e operações em longa distância. Tecnologias de telemetria bidirecional possibilitam o envio de informações detalhadas, como localização e status da bateria, diretamente ao piloto.\n",
    "O voo de um drone é resultado de uma interação entre diferentes sistemas eletrônicos. Desde a Unidade de Controle de Voo, que toma decisões em frações de segundo, até os motores que respondem instantaneamente, cada componente desempenha um papel fundamental. Com a constante evolução tecnológica, os drones estão se tornando cada vez mais inteligentes, eficientes e acessíveis.\n",
    "\"\"\""
   ]
  },
  {
   "cell_type": "code",
   "execution_count": 44,
   "metadata": {},
   "outputs": [],
   "source": [
    "texto_moda = \"\"\"\n",
    "A Estée Lauder, uma das marcas mais icônicas e respeitadas no mundo dos cuidados com a pele, acaba de elevar o patamar do skincare noturno com o lançamento do Revitalizing Supreme+ Night Power Bounce Cream. Este novo creme noturno hidratante antirrugas chega para fortalecer a já consagrada linha Supreme, trazendo uma fórmula inovadora que promete transformar a pele enquanto você dorme.\n",
    "Com mais de 40 anos de pesquisa dedicados à ciência noturna, a Estée Lauder descobriu que a pele tem um comportamento biologicamente único durante a noite, período em que ocorre a renovação celular e a produção de colágeno. Aproveitando esse conhecimento, o novo creme foi desenvolvido para potencializar esses processos naturais, oferecendo uma reparação profunda e avançada.\n",
    "Pote azul de creme noturno revitalizante com tampa dourada da Estée Lauder.\n",
    "Foto: Revitalizing Supreme+ Night Power Bounce Cream (Divulgação)\n",
    "STEAL THE LOOK ON INSTAGRAM - @stealthelook\n",
    "O grande destaque do produto é a tecnologia CollaNight-8, que age estimulando e protegendo a produção natural de colágeno. Essa inovação garante uma redução instantânea das linhas de expressão, com resultados visíveis em poucas horas. Testes clínicos comprovaram que, após uma única aplicação, há uma redução de 15% nas rugas em apenas 12 horas. Além disso, o creme proporciona um efeito lifting, minimiza a aparência dos poros, melhora a firmeza da pele e restaura sua barreira natural, garantindo hidratação intensa e duradoura. \n",
    "\"\"\""
   ]
  },
  {
   "cell_type": "code",
   "execution_count": 45,
   "metadata": {},
   "outputs": [],
   "source": [
    "texto_saude = \"\"\"\n",
    "A vida agitada e hábitos pouco saudáveis, frequentemente, servem como gatilhos para dor de cabeça, realidade enfrentada por quase 140 milhões de brasileiros.\n",
    "Embora a enxaqueca afete cerca de 30 milhões de brasileiros, muitas pessoas acabam confundindo os sintomas de dor de cabeça com os sintomas da enxaqueca.\n",
    "Compreender as diferenças entre as duas condições e buscar ajuda profissional é essencial para ter uma melhor qualidade de vida.\n",
    "Os tipos de dor de cabeça\n",
    "A dor de cabeça pode ser primária ou secundária, veja a diferença:\n",
    "Primária: a dor de cabeça é a patologia em si, as mais frequentes são a tensional e a enxaqueca; \n",
    "Secundária: se manifesta como sintoma de outra doença, como uma infecção viral (dengue, gripe), ou por consequência de uma pancada na cabeça ou ainda por um tumor cerebral. \n",
    "Dor de cabeça tensional\n",
    "A dor de cabeça tensional é mais comum do que a enxaqueca, afetando cerca de 52% das pessoas ao longo da vida. Ela costuma ser desencadeada por uma combinação de fatores genéticos e gatilhos do dia a dia, como estresse ou tensão muscular.\n",
    "Principais sintomas:\n",
    "Sensação de peso, pressão ou aperto nos dois lados da cabeça; \n",
    "Intensidade leve ou moderada. Ao contrário da enxaqueca, não causa náuseas, vômitos, sensibilidade à luz (fotofobia) ou ao som (fonofobia) e as crises podem variar de 30 minutos a sete dias. \n",
    "Por ser menos debilitante do que a enxaqueca, muitas pessoas deixam de buscar ajuda médica, mas identificar os gatilhos pode ajudar a controlar os episódios. \n",
    "Enxaqueca\n",
    "Ao contrário da dor de cabeça tensional, a enxaqueca pode limitar atividades diárias como trabalho e estudos, sendo acompanhada de sintomas como náusea e sensibilidade à luz (fotofobia).\n",
    "Sintomas principais:\n",
    "Dor latejante ou pulsátil, geralmente em um só lado da cabeça (unilateral).\n",
    "Intensidade moderada a forte, piorando com atividades simples, como caminhar.\n",
    " Possíveis causas e gatilhos:4\n",
    "Jejum prolongado: ficar sem comer pode desencadear crises. O ideal é se alimentar a cada 3-4 horas.\n",
    "Sono inadequado: dormir pouco, dormir demais ou ter um sono de má qualidade pode contribuir.\n",
    "Ciclo hormonal: alterações hormonais, especialmente na TPM, podem aumentar as crises em mulheres.\n",
    "Estresse e ansiedade: preocupações excessivas e irritabilidade são fatores comuns. Relaxar pode ajudar.\n",
    "Excesso de cafeína: consumir muito café, refrigerantes ou chocolates pode piorar os sintomas.\n",
    "Falta de exercícios físicos: a prática regular ajuda a equilibrar hormônios e reduzir dores.\n",
    "Uso excessivo de analgésicos: pode agravar a frequência e intensidade da enxaqueca.\n",
    "Alimentação inadequada: chocolates, alimentos cítricos, gordurosos ou com aditivos como glutamato podem ser gatilhos.\n",
    "Fatores genéticos: reconhecer e tratar cedo pode evitar o agravamento da condição.\n",
    "Como é o tratamento?\n",
    "Para dor de cabeça tensional e enxaqueca, o tratamento envolve medidas para controlar as crises e prevenir novos episódios: \n",
    "Durante a crise:\n",
    "Analgésicos comuns, anti-inflamatórios ou medicamentos específicos, como triptanas, que são usados nas crises de enxaqueca.\n",
    "Redução de luz e barulho no ambiente, além de medicamentos para náuseas e vômitos.\n",
    "Em alguns casos, o uso de soro intravenoso pode ser necessário.\n",
    "Prevenção:\n",
    "Medidas para prevenir as crises também são recomendadas, como ajustes no estilo de vida e, quando necessário, medicamentos preventivos.\n",
    "Conclusão\n",
    "A enxaqueca é mais do que uma dor de cabeça comum e pode afetar a qualidade de vida. Identificar os sintomas e os gatilhos é essencial para o tratamento e prevenção das crises. Com o acompanhamento adequado e ajustes no estilo de vida, é possível controlar a condição e minimizar os impactos no dia a dia, promovendo mais bem-estar e conforto.\n",
    "\"\"\""
   ]
  },
  {
   "cell_type": "code",
   "execution_count": 46,
   "metadata": {},
   "outputs": [],
   "source": [
    "def descobrindo_riqueza_lexical(texto):\n",
    "    texto_preprocessado = processando_texto(texto)  \n",
    "    tokens = tokenizacao(texto_preprocessado)\n",
    "    tokens_sem_stopwords = remover_stopwords(tokens) \n",
    "    vocabulario = construindo_vocabulario(tokens_sem_stopwords)\n",
    "    riqueza = riqueza_lexical(tokens, vocabulario)\n",
    "    return vocabulario, riqueza"
   ]
  },
  {
   "cell_type": "code",
   "execution_count": 47,
   "metadata": {},
   "outputs": [
    {
     "name": "stdout",
     "output_type": "stream",
     "text": [
      "Riqueza Lexical (Tecnologia): 0.4511\n",
      "Riqueza Lexical (Moda): 0.5354\n",
      "Riqueza Lexical (Saúde): 0.3917\n",
      "O nicho de Moda tem a maior riqueza lexical.\n"
     ]
    }
   ],
   "source": [
    "vocabulario_tecnologia, riqueza_tecnologia = descobrindo_riqueza_lexical(texto_tech)\n",
    "vocabulario_moda, riqueza_moda = descobrindo_riqueza_lexical(texto_moda)\n",
    "vocabulario_saude, riqueza_saude = descobrindo_riqueza_lexical(texto_saude)\n",
    "\n",
    "print(f\"Riqueza Lexical (Tecnologia): {riqueza_tecnologia:.4f}\")\n",
    "print(f\"Riqueza Lexical (Moda): {riqueza_moda:.4f}\")\n",
    "print(f\"Riqueza Lexical (Saúde): {riqueza_saude:.4f}\")\n",
    "\n",
    "maior_riqueza = max(riqueza_tecnologia, riqueza_moda, riqueza_saude)\n",
    "\n",
    "if maior_riqueza == riqueza_tecnologia:\n",
    "    print(\"O nicho de Tecnologia tem a maior riqueza lexical.\")\n",
    "elif maior_riqueza == riqueza_moda:\n",
    "    print(\"O nicho de Moda tem a maior riqueza lexical.\")\n",
    "else:\n",
    "    print(\"O nicho de Saúde tem a maior riqueza lexical.\")"
   ]
  }
 ],
 "metadata": {
  "kernelspec": {
   "display_name": "jaajp-Za62OQIM",
   "language": "python",
   "name": "python3"
  },
  "language_info": {
   "codemirror_mode": {
    "name": "ipython",
    "version": 3
   },
   "file_extension": ".py",
   "mimetype": "text/x-python",
   "name": "python",
   "nbconvert_exporter": "python",
   "pygments_lexer": "ipython3",
   "version": "3.12.3"
  }
 },
 "nbformat": 4,
 "nbformat_minor": 2
}
