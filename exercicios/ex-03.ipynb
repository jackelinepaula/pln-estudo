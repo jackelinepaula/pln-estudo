{
 "cells": [
  {
   "cell_type": "code",
   "execution_count": null,
   "metadata": {},
   "outputs": [
    {
     "name": "stdout",
     "output_type": "stream",
     "text": [
      "['adorei', 'o', 'produto', 'super', 'recomend']\n"
     ]
    }
   ],
   "source": [
    "import re\n",
    "\n",
    "def modificar_string(string): \n",
    "\n",
    "    string_limpa = string.lower()\n",
    "    #Removendo caracteres especiais\n",
    "    string_limpa = re.sub(r'[^\\w\\s]', '', string_limpa)\n",
    "    #Removendo emojis, se houver\n",
    "    string_limpa = re.sub(r'[^\\x00-\\x7F]+', '', string_limpa)  \n",
    "    string_limpa = string_limpa.split()\n",
    "\n",
    "    return string_limpa\n",
    "\n",
    "print(modificar_string(\"Adorei o produto! Super recomendo 😍\"))\n"
   ]
  }
 ],
 "metadata": {
  "kernelspec": {
   "display_name": "jaajp-Za62OQIM",
   "language": "python",
   "name": "python3"
  },
  "language_info": {
   "codemirror_mode": {
    "name": "ipython",
    "version": 3
   },
   "file_extension": ".py",
   "mimetype": "text/x-python",
   "name": "python",
   "nbconvert_exporter": "python",
   "pygments_lexer": "ipython3",
   "version": "3.12.3"
  }
 },
 "nbformat": 4,
 "nbformat_minor": 2
}
