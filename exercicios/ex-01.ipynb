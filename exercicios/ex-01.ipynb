{
 "cells": [
  {
   "cell_type": "code",
   "execution_count": 2,
   "metadata": {},
   "outputs": [],
   "source": [
    "texto: str = \"\"\"\n",
    "Python é uma linguagem de programação poderosa e versátil.\n",
    "É amplamente utilizada em desenvolvimento web, ciência de dados, \n",
    "inteligência artificial e muito mais.\n",
    "\"\"\""
   ]
  },
  {
   "cell_type": "code",
   "execution_count": 3,
   "metadata": {},
   "outputs": [],
   "source": [
    "indicePonto: int = texto.find(\".\")\n",
    "indiceVirgula: int  = texto.find(\",\")"
   ]
  },
  {
   "cell_type": "code",
   "execution_count": 8,
   "metadata": {},
   "outputs": [
    {
     "name": "stdout",
     "output_type": "stream",
     "text": [
      "\n",
      "É amplamente utilizada em desenvolvimento web\n"
     ]
    }
   ],
   "source": [
    "newTexto: str = texto[indicePonto+1 : indiceVirgula]\n",
    "print(newTexto)"
   ]
  }
 ],
 "metadata": {
  "kernelspec": {
   "display_name": "jaajp-Za62OQIM",
   "language": "python",
   "name": "python3"
  },
  "language_info": {
   "codemirror_mode": {
    "name": "ipython",
    "version": 3
   },
   "file_extension": ".py",
   "mimetype": "text/x-python",
   "name": "python",
   "nbconvert_exporter": "python",
   "pygments_lexer": "ipython3",
   "version": "3.12.3"
  }
 },
 "nbformat": 4,
 "nbformat_minor": 2
}
